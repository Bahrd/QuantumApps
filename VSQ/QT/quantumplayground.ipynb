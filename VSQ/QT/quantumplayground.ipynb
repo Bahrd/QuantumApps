{
 "cells": [
  {
   "cell_type": "code",
   "execution_count": 25,
   "metadata": {},
   "outputs": [],
   "source": [
    "import qsharp"
   ]
  },
  {
   "cell_type": "code",
   "execution_count": 26,
   "metadata": {
    "vscode": {
     "languageId": "qsharp"
    }
   },
   "outputs": [
    {
     "data": {
      "text/html": [
       "<table>\n",
       "  <thead>\n",
       "    <tr>\n",
       "      <th style=\"text-align: left\">Basis State<br />(|𝜓₁…𝜓ₙ⟩)</th>\n",
       "      <th style=\"text-align: left\">Amplitude</th>\n",
       "      <th style=\"text-align: left\">Measurement Probability</th>\n",
       "      <th style=\"text-align: left\" colspan=\"2\">Phase</th>\n",
       "    </tr>\n",
       "  </thead>\n",
       "  <tbody>\n",
       "    <tr>\n",
       "  <td style=\"text-align: left\">\n",
       "    <span style=\"display: inline-block\">|00⟩</span>\n",
       "  </td>\n",
       "  <td style=\"text-align: left\">\n",
       "    <span style=\"display: inline-block\">0.5000+0.0000𝑖</span>\n",
       "  </td>\n",
       "  <td style=\"text-align: left\">\n",
       "    <progress max=\"100\" value=\"25.00000000000001\"></progress>\n",
       "    <span style=\"display: inline-block\">25.0000%</span>\n",
       "  </td>\n",
       "  <td style=\"text-align: left; transform: rotate(0.0000rad)\">↑</td>\n",
       "  <td style=\"text-align: left\">\n",
       "    <span style=\"display: inline-block\">0.0000</span>\n",
       "  </td>\n",
       "</tr>\n",
       "<tr>\n",
       "  <td style=\"text-align: left\">\n",
       "    <span style=\"display: inline-block\">|01⟩</span>\n",
       "  </td>\n",
       "  <td style=\"text-align: left\">\n",
       "    <span style=\"display: inline-block\">0.5000+0.0000𝑖</span>\n",
       "  </td>\n",
       "  <td style=\"text-align: left\">\n",
       "    <progress max=\"100\" value=\"25.00000000000001\"></progress>\n",
       "    <span style=\"display: inline-block\">25.0000%</span>\n",
       "  </td>\n",
       "  <td style=\"text-align: left; transform: rotate(0.0000rad)\">↑</td>\n",
       "  <td style=\"text-align: left\">\n",
       "    <span style=\"display: inline-block\">0.0000</span>\n",
       "  </td>\n",
       "</tr>\n",
       "<tr>\n",
       "  <td style=\"text-align: left\">\n",
       "    <span style=\"display: inline-block\">|10⟩</span>\n",
       "  </td>\n",
       "  <td style=\"text-align: left\">\n",
       "    <span style=\"display: inline-block\">0.5000+0.0000𝑖</span>\n",
       "  </td>\n",
       "  <td style=\"text-align: left\">\n",
       "    <progress max=\"100\" value=\"25.00000000000001\"></progress>\n",
       "    <span style=\"display: inline-block\">25.0000%</span>\n",
       "  </td>\n",
       "  <td style=\"text-align: left; transform: rotate(0.0000rad)\">↑</td>\n",
       "  <td style=\"text-align: left\">\n",
       "    <span style=\"display: inline-block\">0.0000</span>\n",
       "  </td>\n",
       "</tr>\n",
       "<tr>\n",
       "  <td style=\"text-align: left\">\n",
       "    <span style=\"display: inline-block\">|11⟩</span>\n",
       "  </td>\n",
       "  <td style=\"text-align: left\">\n",
       "    <span style=\"display: inline-block\">−0.5000+0.0000𝑖</span>\n",
       "  </td>\n",
       "  <td style=\"text-align: left\">\n",
       "    <progress max=\"100\" value=\"25.00000000000001\"></progress>\n",
       "    <span style=\"display: inline-block\">25.0000%</span>\n",
       "  </td>\n",
       "  <td style=\"text-align: left; transform: rotate(-3.1416rad)\">↑</td>\n",
       "  <td style=\"text-align: left\">\n",
       "    <span style=\"display: inline-block\">-3.1416</span>\n",
       "  </td>\n",
       "</tr>\n",
       "\n",
       "  </tbody>\n",
       "</table>\n"
      ],
      "text/latex": [
       "$|\\psi\\rangle = \\frac{1}{2}|00\\rangle+\\frac{1}{2}|01\\rangle+\\frac{1}{2}|10\\rangle-\\frac{1}{2}|11\\rangle$"
      ],
      "text/plain": [
       "STATE:\n",
       "|00⟩: 0.5000+0.0000𝑖\n",
       "|01⟩: 0.5000+0.0000𝑖\n",
       "|10⟩: 0.5000+0.0000𝑖\n",
       "|11⟩: −0.5000+0.0000𝑖"
      ]
     },
     "metadata": {},
     "output_type": "display_data"
    },
    {
     "data": {
      "text/html": [
       "<table>\n",
       "  <thead>\n",
       "    <tr>\n",
       "      <th style=\"text-align: left\">Basis State<br />(|𝜓₁…𝜓ₙ⟩)</th>\n",
       "      <th style=\"text-align: left\">Amplitude</th>\n",
       "      <th style=\"text-align: left\">Measurement Probability</th>\n",
       "      <th style=\"text-align: left\" colspan=\"2\">Phase</th>\n",
       "    </tr>\n",
       "  </thead>\n",
       "  <tbody>\n",
       "    <tr>\n",
       "  <td style=\"text-align: left\">\n",
       "    <span style=\"display: inline-block\">|00⟩</span>\n",
       "  </td>\n",
       "  <td style=\"text-align: left\">\n",
       "    <span style=\"display: inline-block\">0.7071+0.0000𝑖</span>\n",
       "  </td>\n",
       "  <td style=\"text-align: left\">\n",
       "    <progress max=\"100\" value=\"50.000000000000014\"></progress>\n",
       "    <span style=\"display: inline-block\">50.0000%</span>\n",
       "  </td>\n",
       "  <td style=\"text-align: left; transform: rotate(0.0000rad)\">↑</td>\n",
       "  <td style=\"text-align: left\">\n",
       "    <span style=\"display: inline-block\">0.0000</span>\n",
       "  </td>\n",
       "</tr>\n",
       "<tr>\n",
       "  <td style=\"text-align: left\">\n",
       "    <span style=\"display: inline-block\">|11⟩</span>\n",
       "  </td>\n",
       "  <td style=\"text-align: left\">\n",
       "    <span style=\"display: inline-block\">−0.7071+0.0000𝑖</span>\n",
       "  </td>\n",
       "  <td style=\"text-align: left\">\n",
       "    <progress max=\"100\" value=\"50.000000000000014\"></progress>\n",
       "    <span style=\"display: inline-block\">50.0000%</span>\n",
       "  </td>\n",
       "  <td style=\"text-align: left; transform: rotate(-3.1416rad)\">↑</td>\n",
       "  <td style=\"text-align: left\">\n",
       "    <span style=\"display: inline-block\">-3.1416</span>\n",
       "  </td>\n",
       "</tr>\n",
       "\n",
       "  </tbody>\n",
       "</table>\n"
      ],
      "text/latex": [
       "$|\\psi\\rangle = \\frac{\\sqrt{2}}{2}|00\\rangle-\\frac{\\sqrt{2}}{2}|11\\rangle$"
      ],
      "text/plain": [
       "STATE:\n",
       "|00⟩: 0.7071+0.0000𝑖\n",
       "|11⟩: −0.7071+0.0000𝑖"
      ]
     },
     "metadata": {},
     "output_type": "display_data"
    },
    {
     "data": {
      "text/html": [
       "<p>Bob's measurement: Zero</p>"
      ],
      "text/plain": [
       "Bob's measurement: Zero"
      ]
     },
     "metadata": {},
     "output_type": "display_data"
    },
    {
     "data": {
      "text/plain": [
       "Zero"
      ]
     },
     "execution_count": 26,
     "metadata": {},
     "output_type": "execute_result"
    }
   ],
   "source": [
    "%%qsharp\n",
    "\n",
    "open Microsoft.Quantum.Canon;\n",
    "open Microsoft.Quantum.Intrinsic;\n",
    "\n",
    "\n",
    "operation ABBA(): Result\n",
    "{\n",
    "   let Δ = () -> Microsoft.Quantum.Diagnostics.DumpMachine();\n",
    "\n",
    "   use (A, B) = (Qubit(), Qubit());\n",
    "\n",
    "   // A: Turn superposition into entanglement\n",
    "   H(B); CNOT(B, A);\n",
    "   H(A);\n",
    "   Δ();\n",
    "   //let Alice = M(A);\n",
    "  // H(B);\n",
    "   let Bob = Measure([PauliZ, PauliZ], [A, B]);            Δ();\n",
    "   Message($\"Bob's measurement: {Bob}\");\n",
    "   Reset(A); Reset(B);\n",
    "   return Bob;\n",
    "}\n",
    "\n",
    "ABBA();\n",
    "\n"
   ]
  }
 ],
 "metadata": {
  "kernelspec": {
   "display_name": "Python 3",
   "language": "python",
   "name": "python3"
  },
  "language_info": {
   "codemirror_mode": {
    "name": "ipython",
    "version": 3
   },
   "file_extension": ".py",
   "mimetype": "text/x-python",
   "name": "python",
   "nbconvert_exporter": "python",
   "pygments_lexer": "ipython3",
   "version": "3.12.0"
  }
 },
 "nbformat": 4,
 "nbformat_minor": 2
}
