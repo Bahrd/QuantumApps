{
 "cells": [
  {
   "cell_type": "markdown",
   "metadata": {},
   "source": [
    "<center>\n",
    "\n",
    "# [Teleportation](https://www.youtube.com/watch?v=lbrO_0EImZ4) — the [Quantum](https://qubit.guide/5.8-quantum-teleportation) one!\n",
    "\n",
    "\n",
    "*„You have nothing to do but mention the **quantum theory**,*</br>\n",
    "*and people will take your voice for the voice of science,*</br>\n",
    "</br>\n",
    "*... and believe anything.”*\n",
    "\n",
    "**Bernard Shaw**, Geneva (1929?)\n",
    "\n",
    "––––––––––––––––––––\n",
    "\n",
    "[Python [constricted](https://learn.microsoft.com/en-us/azure/quantum/user-guide/testing-debugging) Q#]\n",
    "</center>"
   ]
  },
  {
   "cell_type": "code",
   "execution_count": 1,
   "metadata": {},
   "outputs": [
    {
     "data": {
      "application/javascript": "// Copyright (c) Microsoft Corporation.\n// Licensed under the MIT License.\n\n// This file provides CodeMirror syntax highlighting for Q# magic cells\n// in classic Jupyter Notebooks. It does nothing in other (Jupyter Notebook 7,\n// VS Code, Azure Notebooks, etc.) environments.\n\n// Detect the prerequisites and do nothing if they don't exist.\nif (window.require && window.CodeMirror && window.Jupyter) {\n  // The simple mode plugin for CodeMirror is not loaded by default, so require it.\n  window.require([\"codemirror/addon/mode/simple\"], function defineMode() {\n    let rules = [\n      {\n        token: \"comment\",\n        regex: /(\\/\\/).*/,\n        beginWord: false,\n      },\n      {\n        token: \"string\",\n        regex: String.raw`^\\\"(?:[^\\\"\\\\]|\\\\[\\s\\S])*(?:\\\"|$)`,\n        beginWord: false,\n      },\n      {\n        token: \"keyword\",\n        regex: String.raw`(namespace|open|as|operation|function|body|adjoint|newtype|controlled|internal)\\b`,\n        beginWord: true,\n      },\n      {\n        token: \"keyword\",\n        regex: String.raw`(if|elif|else|repeat|until|fixup|for|in|return|fail|within|apply)\\b`,\n        beginWord: true,\n      },\n      {\n        token: \"keyword\",\n        regex: String.raw`(Adjoint|Controlled|Adj|Ctl|is|self|auto|distribute|invert|intrinsic)\\b`,\n        beginWord: true,\n      },\n      {\n        token: \"keyword\",\n        regex: String.raw`(let|set|use|borrow|mutable)\\b`,\n        beginWord: true,\n      },\n      {\n        token: \"operatorKeyword\",\n        regex: String.raw`(not|and|or)\\b|(w/)`,\n        beginWord: true,\n      },\n      {\n        token: \"operatorKeyword\",\n        regex: String.raw`(=)|(!)|(<)|(>)|(\\+)|(-)|(\\*)|(/)|(\\^)|(%)|(\\|)|(&&&)|(~~~)|(\\.\\.\\.)|(\\.\\.)|(\\?)`,\n        beginWord: false,\n      },\n      {\n        token: \"meta\",\n        regex: String.raw`(Int|BigInt|Double|Bool|Qubit|Pauli|Result|Range|String|Unit)\\b`,\n        beginWord: true,\n      },\n      {\n        token: \"atom\",\n        regex: String.raw`(true|false|Pauli(I|X|Y|Z)|One|Zero)\\b`,\n        beginWord: true,\n      },\n    ];\n    let simpleRules = [];\n    for (let rule of rules) {\n      simpleRules.push({\n        token: rule.token,\n        regex: new RegExp(rule.regex, \"g\"),\n        sol: rule.beginWord,\n      });\n      if (rule.beginWord) {\n        // Need an additional rule due to the fact that CodeMirror simple mode doesn't work with ^ token\n        simpleRules.push({\n          token: rule.token,\n          regex: new RegExp(String.raw`\\W` + rule.regex, \"g\"),\n          sol: false,\n        });\n      }\n    }\n\n    // Register the mode defined above with CodeMirror\n    window.CodeMirror.defineSimpleMode(\"qsharp\", { start: simpleRules });\n    window.CodeMirror.defineMIME(\"text/x-qsharp\", \"qsharp\");\n\n    // Tell Jupyter to associate %%qsharp magic cells with the qsharp mode\n    window.Jupyter.CodeCell.options_default.highlight_modes[\"qsharp\"] = {\n      reg: [/^%%qsharp/],\n    };\n\n    // Force re-highlighting of all cells the first time this code runs\n    for (const cell of window.Jupyter.notebook.get_cells()) {\n      cell.auto_highlight();\n    }\n  });\n}\n",
      "text/plain": []
     },
     "metadata": {},
     "output_type": "display_data"
    }
   ],
   "source": [
    "import qsharp"
   ]
  },
  {
   "cell_type": "markdown",
   "metadata": {},
   "source": [
    "<center>\n",
    "\n",
    "## No [cloning](https://qubit.guide/5.9-no-cloning-and-no-go) — no con[fusion](https://www.youtube.com/watch?v=iBfCpldPSk4)!\n",
    "</center>\n"
   ]
  },
  {
   "cell_type": "code",
   "execution_count": 2,
   "metadata": {
    "vscode": {
     "languageId": "qsharp"
    }
   },
   "outputs": [],
   "source": [
    "%%qsharp\n",
    "\n",
    "// A diagnostic DumpMachine procedure alias\n",
    "let Δ = () -> Microsoft.Quantum.Diagnostics.DumpMachine();"
   ]
  },
  {
   "cell_type": "markdown",
   "metadata": {},
   "source": [
    "<center> \n",
    "\n",
    "## Step 1\n",
    "</center>\n",
    " \n",
    "Create and prepare an entangled pair $\\psi_1$ and $\\psi_2$, that is, the **Alice**'s and **Bob**'s qubits"
   ]
  },
  {
   "cell_type": "code",
   "execution_count": 3,
   "metadata": {
    "vscode": {
     "languageId": "qsharp"
    }
   },
   "outputs": [
    {
     "data": {
      "text/html": [
       "<p>M(Alice's) = One, M(Bob's) = Zero</p>"
      ],
      "text/plain": [
       "M(Alice's) = One, M(Bob's) = Zero"
      ]
     },
     "metadata": {},
     "output_type": "display_data"
    },
    {
     "data": {
      "text/html": [
       "<table>\n",
       "  <thead>\n",
       "    <tr>\n",
       "      <th style=\"text-align: left\">Basis State<br />(|𝜓₁…𝜓ₙ⟩)</th>\n",
       "      <th style=\"text-align: left\">Amplitude</th>\n",
       "      <th style=\"text-align: left\">Measurement Probability</th>\n",
       "      <th style=\"text-align: left\" colspan=\"2\">Phase</th>\n",
       "    </tr>\n",
       "  </thead>\n",
       "  <tbody>\n",
       "    <tr>\n",
       "  <td style=\"text-align: left\">\n",
       "    <span style=\"display: inline-block\">|00⟩</span>\n",
       "  </td>\n",
       "  <td style=\"text-align: left\">\n",
       "    <span style=\"display: inline-block\">0.7071+0.0000𝑖</span>\n",
       "  </td>\n",
       "  <td style=\"text-align: left\">\n",
       "    <progress max=\"100\" value=\"50.000000000000014\"></progress>\n",
       "    <span style=\"display: inline-block\">50.0000%</span>\n",
       "  </td>\n",
       "  <td style=\"text-align: left; transform: rotate(0.0000rad)\">↑</td>\n",
       "  <td style=\"text-align: left\">\n",
       "    <span style=\"display: inline-block\">0.0000</span>\n",
       "  </td>\n",
       "</tr>\n",
       "<tr>\n",
       "  <td style=\"text-align: left\">\n",
       "    <span style=\"display: inline-block\">|11⟩</span>\n",
       "  </td>\n",
       "  <td style=\"text-align: left\">\n",
       "    <span style=\"display: inline-block\">−0.7071+0.0000𝑖</span>\n",
       "  </td>\n",
       "  <td style=\"text-align: left\">\n",
       "    <progress max=\"100\" value=\"50.000000000000014\"></progress>\n",
       "    <span style=\"display: inline-block\">50.0000%</span>\n",
       "  </td>\n",
       "  <td style=\"text-align: left; transform: rotate(-3.1416rad)\">↑</td>\n",
       "  <td style=\"text-align: left\">\n",
       "    <span style=\"display: inline-block\">-3.1416</span>\n",
       "  </td>\n",
       "</tr>\n",
       "\n",
       "  </tbody>\n",
       "</table>\n"
      ],
      "text/latex": [
       "$|\\psi\\rangle = \\frac{\\sqrt{2}}{2}|00\\rangle-\\frac{\\sqrt{2}}{2}|11\\rangle$"
      ],
      "text/plain": [
       "STATE:\n",
       "|00⟩: 0.7071+0.0000𝑖\n",
       "|11⟩: −0.7071+0.0000𝑖"
      ]
     },
     "metadata": {},
     "output_type": "display_data"
    }
   ],
   "source": [
    "%%qsharp\n",
    "\n",
    "use (ψ₁, ψ₂) = (Qubit(), Qubit());                                                        //Δ();\n",
    "// Flip ψ₁ and/or ψ₂ if you want the other Bell state...\n",
    "X(ψ₁);                                                                                    //Δ();\n",
    "Message($\"M(Alice's) = {M(ψ₁)}, M(Bob's) = {M(ψ₂)}\");                                     //Δ();\n",
    "H(ψ₁); CNOT(ψ₁, ψ₂);                                                                      Δ();"
   ]
  },
  {
   "cell_type": "markdown",
   "metadata": {},
   "source": [
    "Now the qubits $\\psi_1$ and $\\psi_2$ should (somehow) be sent to Alice and Bob that reside everywhere, *e.g.* in different galaxies far, far away... \n",
    "\n",
    "Whether or not one of them can reside **behind the event horizon of the black whole** is unknown, however.\n",
    "<center> \n",
    "\n",
    "## Step 2\n",
    "</center> \n",
    "\n",
    "Prepare the qubit $\\psi_3$ to be teleported. It can be in any combination of quantum states $\\left\\vert 0 \\right\\rangle$ and $\\left\\vert 1 \\right\\rangle$ that are orthogonal states in **computational** basis:\n",
    "$$\n",
    "\\left\\vert 0 \\right\\rangle = \n",
    "\\begin{bmatrix}\n",
    "1 & 0\n",
    "\\end{bmatrix}^T,\n",
    "\\left\\vert 1 \\right\\rangle = \n",
    "\\begin{bmatrix}\n",
    "0 & 1\n",
    "\\end{bmatrix}^T \n",
    "$$\n",
    "Assume, for instance, that:\n",
    "$$\\left\\vert \\psi_3 \\right\\rangle = \\alpha\\left\\vert 0 \\right\\rangle + \\beta\\left\\vert 1 \\right\\rangle$$ \n",
    "where $\\vert\\alpha\\vert^2 + \\vert\\beta\\vert^2 = 1$.\n",
    "\n",
    "There is another popular orthogonal basis in which the computational states are in **superposition**:\n",
    "$$\n",
    "\\left\\vert + \\right\\rangle \n",
    "= \\mathbf{H}_2 \\left\\vert 0 \\right\\rangle \n",
    "= \n",
    "\\frac{1}{\\sqrt{2}}\n",
    "\\begin{bmatrix}\n",
    "1 & 1\\\\\n",
    "1 & -1\n",
    "\\end{bmatrix}\n",
    "\\begin{bmatrix}\n",
    "1\\\\\n",
    "0\n",
    "\\end{bmatrix}\n",
    "=\n",
    "\\frac{1}{\\sqrt{2}}\n",
    "\\begin{bmatrix}\n",
    "1\\\\\n",
    "1\n",
    "\\end{bmatrix}\n",
    "= \\frac{1}{\\sqrt{2}}\\left(\\left\\vert 0 \\right\\rangle + \\left\\vert 1 \\right\\rangle \\right) \n",
    "$$\n",
    "and\n",
    "$$\n",
    "\\left\\vert - \\right\\rangle \n",
    "= \\mathbf{H}_2 \\left\\vert 1 \\right\\rangle \n",
    "= \n",
    "\\frac{1}{\\sqrt{2}}\n",
    "\\begin{bmatrix}\n",
    "1 & 1\\\\\n",
    "1 & -1\n",
    "\\end{bmatrix}\n",
    "\\begin{bmatrix}\n",
    "0\\\\\n",
    "1\n",
    "\\end{bmatrix}\n",
    "=\n",
    "\\frac{1}{\\sqrt{2}}\n",
    "\\begin{bmatrix}\n",
    "1\\\\\n",
    "-1\n",
    "\\end{bmatrix}\n",
    "= \\frac{1}{\\sqrt{2}}\\left(\\left\\vert 0 \\right\\rangle - \\left\\vert 1 \\right\\rangle \\right)\n",
    "$$\n",
    "### A short LA recollection\n",
    "The operations on states can be represented by (**unitary**) matrices\n",
    "$$\n",
    "\\mathbf{H}_2 = \\frac{\\sqrt{2}}{2}\n",
    "\\begin{bmatrix}\n",
    "1 & 1\\\\\n",
    "1 & -1\\\\\n",
    "\\end{bmatrix}\n",
    ",\\quad\n",
    "\\mathbf{H}_4 = \\mathbf{H}_2 {\\color{red}{\\otimes}} \\mathbf{H}_2 = \\frac{1}{2}\n",
    "\\begin{bmatrix}\n",
    "1 & 1 & 1 & 1 \\\\\n",
    "1 & -1 & 1 & -1 \\\\\n",
    "1 & 1 & -1 & -1 \\\\\n",
    "1 & -1 & -1 & 1\n",
    "\\end{bmatrix}\n",
    ",\\quad\n",
    "\\mathbf{CNOT} = \n",
    "\\begin{bmatrix}\n",
    "1 & 0 & 0 & 0 \\\\\n",
    "0 & 1 & 0 & 0 \\\\\n",
    "0 & 0 & 0 & 1 \\\\\n",
    "0 & 0 & 1 & 0\n",
    "\\end{bmatrix}\n",
    "$$\n",
    "where ${\\color{red}{\\otimes}}$ is the [Kronecker product](https://en.wikipedia.org/wiki/Kronecker_product).\n",
    "\n",
    "For more than two qubits this representation is quite inconvenient (pretty illegible).\n",
    "Hence the Dirac notation, for instance:\n",
    "$$\n",
    "\\left\\vert 00 \\right\\rangle = \\left\\vert 0, 0 \\right\\rangle = \\left\\vert 0 \\right\\rangle\\left\\vert 0 \\right\\rangle = \\left\\vert 0 \\right\\rangle {\\color{red}{\\otimes}} \\left\\vert 0 \\right\\rangle = \n",
    "\\begin{bmatrix}\n",
    "1\\\\\n",
    "0\n",
    "\\end{bmatrix}\n",
    "{\\color{red}{\\otimes}}\n",
    "\\begin{bmatrix}\n",
    "1\\\\\n",
    "0\n",
    "\\end{bmatrix}\n",
    "=\n",
    "\\begin{bmatrix}\n",
    "1\\\\\n",
    "0\\\\\n",
    "0\\\\\n",
    "0\n",
    "\\end{bmatrix}\n",
    "$$\n",
    "\n",
    "Sometimes the row vector is used, then\n",
    "\n",
    "$$\n",
    "\\left\\langle 00 \\right\\vert \n",
    "=\n",
    "\\begin{bmatrix}\n",
    "1 & 0 & 0 & 0\n",
    "\\end{bmatrix}\n",
    "=\n",
    "\\begin{bmatrix}\n",
    "1\\\\\n",
    "0\\\\\n",
    "0\\\\\n",
    "0\n",
    "\\end{bmatrix}^T\n",
    "$$\n",
    "\n",
    "So that the **dot product** can be evaluated:\n",
    "$$\n",
    "\\left\\langle 00 \\right\\vert \\left\\vert 00 \\right\\rangle \n",
    "=\n",
    "\\left\\langle 00 \\vert 00 \\right\\rangle \n",
    "=\n",
    "\\begin{bmatrix}\n",
    "1 & 0 & 0 & 0\n",
    "\\end{bmatrix}\n",
    "\\cdot\n",
    "\\begin{bmatrix}\n",
    "1\\\\\n",
    "0\\\\\n",
    "0\\\\\n",
    "0\n",
    "\\end{bmatrix}\n",
    "= 1\n",
    "$$\n",
    "\n",
    "... but we will be happy to delve into **projectors, measurements, *etc*.** part: \n",
    "$$\n",
    "\\left\\vert \\alpha\\right\\vert ^{2}=\\left\\vert \\left\\langle 0|\\psi\\right\\rangle\n",
    "\\right\\vert ^{2}=\\underset{=\\alpha^{\\ast}}{\\underbrace{\\left\\langle\n",
    "\\psi|0\\right\\rangle }}\\underset{=\\alpha}{\\underbrace{\\left\\langle\n",
    "0|\\psi\\right\\rangle }}=\\left\\langle \\psi\\right\\vert \\underset{=\\mathbf{P}_{0}%\n",
    "}{\\underbrace{\\left\\vert 0\\right\\rangle \\left\\langle 0\\right\\vert }}\\left\\vert\n",
    "\\psi\\right\\rangle =\\left\\langle \\psi\\right\\vert \\mathbf{P}_{0}\\left\\vert \\psi\n",
    "\\right\\rangle\n",
    "$$\n",
    "and\n",
    "$$ \\left\\vert \\beta\\right\\vert ^{2}= \\left\\langle \\psi\\right\\vert \\mathbf{P}_{1}\\left\\vert \\psi \\right\\rangle\n",
    "$$\n",
    "and where $\\mathbf{P}_0 + \\mathbf{P}_1 = \\mathbf{I}$.\n",
    "\n",
    "<center>\n",
    "––––––––––––––––––––\n",
    "\n",
    "# [But not **this** time!](https://www.youtube.com/watch?v=yMpSQV1-bsA)\n",
    "\n",
    "––––––––––––––––––––\n",
    "</center>\n",
    "\n",
    "[Fun fact](https://en.wikipedia.org/wiki/Controlled_NOT_gate#Regulation): *\"Canada implemented export restrictions on the sale of **quantum computers containing more than 34 qubits and error rates below a certain CNOT error threshold**, along with restrictions for quantum computers with more qubits and higher error rates. The same restrictions quickly popped up in the UK, France, Spain and the Netherlands.\"*"
   ]
  },
  {
   "cell_type": "code",
   "execution_count": 4,
   "metadata": {
    "vscode": {
     "languageId": "qsharp"
    }
   },
   "outputs": [
    {
     "data": {
      "text/html": [
       "<table>\n",
       "  <thead>\n",
       "    <tr>\n",
       "      <th style=\"text-align: left\">Basis State<br />(|𝜓₁…𝜓ₙ⟩)</th>\n",
       "      <th style=\"text-align: left\">Amplitude</th>\n",
       "      <th style=\"text-align: left\">Measurement Probability</th>\n",
       "      <th style=\"text-align: left\" colspan=\"2\">Phase</th>\n",
       "    </tr>\n",
       "  </thead>\n",
       "  <tbody>\n",
       "    <tr>\n",
       "  <td style=\"text-align: left\">\n",
       "    <span style=\"display: inline-block\">|001⟩</span>\n",
       "  </td>\n",
       "  <td style=\"text-align: left\">\n",
       "    <span style=\"display: inline-block\">0.7071+0.0000𝑖</span>\n",
       "  </td>\n",
       "  <td style=\"text-align: left\">\n",
       "    <progress max=\"100\" value=\"50.000000000000014\"></progress>\n",
       "    <span style=\"display: inline-block\">50.0000%</span>\n",
       "  </td>\n",
       "  <td style=\"text-align: left; transform: rotate(0.0000rad)\">↑</td>\n",
       "  <td style=\"text-align: left\">\n",
       "    <span style=\"display: inline-block\">0.0000</span>\n",
       "  </td>\n",
       "</tr>\n",
       "<tr>\n",
       "  <td style=\"text-align: left\">\n",
       "    <span style=\"display: inline-block\">|111⟩</span>\n",
       "  </td>\n",
       "  <td style=\"text-align: left\">\n",
       "    <span style=\"display: inline-block\">−0.7071+0.0000𝑖</span>\n",
       "  </td>\n",
       "  <td style=\"text-align: left\">\n",
       "    <progress max=\"100\" value=\"50.000000000000014\"></progress>\n",
       "    <span style=\"display: inline-block\">50.0000%</span>\n",
       "  </td>\n",
       "  <td style=\"text-align: left; transform: rotate(-3.1416rad)\">↑</td>\n",
       "  <td style=\"text-align: left\">\n",
       "    <span style=\"display: inline-block\">-3.1416</span>\n",
       "  </td>\n",
       "</tr>\n",
       "\n",
       "  </tbody>\n",
       "</table>\n"
      ],
      "text/latex": [
       "$|\\psi\\rangle = \\frac{\\sqrt{2}}{2}|001\\rangle-\\frac{\\sqrt{2}}{2}|111\\rangle$"
      ],
      "text/plain": [
       "STATE:\n",
       "|001⟩: 0.7071+0.0000𝑖\n",
       "|111⟩: −0.7071+0.0000𝑖"
      ]
     },
     "metadata": {},
     "output_type": "display_data"
    }
   ],
   "source": [
    "%%qsharp\n",
    "\n",
    "use ψ₃ = Qubit(); X(ψ₃);                                                                  Δ();"
   ]
  },
  {
   "cell_type": "markdown",
   "metadata": {},
   "source": [
    "<center> \n",
    "\n",
    "## Step 3\n",
    "</center> \n",
    "\n",
    "1. Entangle $\\psi_3$ with $\\psi_1$\n",
    "2. Prepare Alice's qubits $(\\psi_3, \\psi_1)$ for measurement in the Bell basis...\n",
    "3. = 1. + 2. ... to perform the measurements in — yes, you guessed it right — computational basis!\n",
    "\n",
    "<center>––––––––––––––––––––</center>\n",
    "\n",
    "Somewhere in between 1. and 3. **the teleportation** takes place. Where exactly? Well... it's complicated (or is it?)!\n",
    "\n",
    "Let's start with Bell states (all four of them!):\n",
    "\n",
    "We have four Bell states (four orthogonal basis states) made of our qubits\n",
    "$\\left\\vert \\psi_{1}\\right\\rangle $ and $\\left\\vert \\psi_{2}\\right\\rangle $:\n",
    "$$\n",
    "\\begin{align*}\n",
    "\\left\\vert \\Phi^{+}\\right\\rangle _{12}  & =\\frac{1}{\\sqrt{2}}\\left(\n",
    "\\left\\vert 0\\right\\rangle _{1}{\\color{red}{\\otimes}}\\left\\vert 0\\right\\rangle _{2}+\\left\\vert\n",
    "1\\right\\rangle _{1}{\\color{red}{\\otimes}}\\left\\vert 1\\right\\rangle _{2}\\right)  \\\\\n",
    "\\left\\vert \\Phi^{-}\\right\\rangle _{12}  & =\\frac{1}{\\sqrt{2}}\\left(\n",
    "\\left\\vert 0\\right\\rangle _{1}{\\color{red}{\\otimes}}\\left\\vert 0\\right\\rangle _{2}-\\left\\vert\n",
    "1\\right\\rangle _{1}{\\color{red}{\\otimes}}\\left\\vert 1\\right\\rangle _{2}\\right)  \\\\\n",
    "\\left\\vert \\Psi^{+}\\right\\rangle _{12}  & =\\frac{1}{\\sqrt{2}}\\left(\n",
    "\\left\\vert 0\\right\\rangle _{1}{\\color{red}{\\otimes}}\\left\\vert 1\\right\\rangle _{2}+\\left\\vert\n",
    "1\\right\\rangle _{1}{\\color{red}{\\otimes}}\\left\\vert 0\\right\\rangle _{2}\\right)  \\\\\n",
    "\\left\\vert \\Psi^{-}\\right\\rangle _{12}  & =\\frac{1}{\\sqrt{2}}\\left(\n",
    "\\left\\vert 0\\right\\rangle _{1}{\\color{red}{\\otimes}}\\left\\vert 0\\right\\rangle _{2}-\\left\\vert\n",
    "1\\right\\rangle _{1}{\\color{red}{\\otimes}}\\left\\vert 1\\right\\rangle _{2}\\right)\n",
    "\\end{align*}\n",
    "$$\n",
    "and now recall that overall state of our three qubits is $\\left\\vert \\psi_{3}\\right\\rangle {\\color{red}{\\otimes}} \\left\\vert \\Phi^{+}\\right\\rangle _{12}$ and, after \"some algebra\" can be rewritten to the form in which the state of $\\left\\vert \\psi_{3} \\right\\rangle$ (which is in the Alice's place) is expressed bin terms of the state of $\\left\\vert \\psi_{2} \\right\\rangle$ (which is with Bob):\n",
    "$$\n",
    "\\begin{align*}\n",
    "\\left\\vert \\psi_{3}\\right\\rangle \\left\\vert \\Phi^{+}\\right\\rangle _{12}  &\n",
    "=\\left\\vert \\psi_{3}\\right\\rangle {\\color{red}{\\otimes}}\\left\\vert \\Phi^{+}\\right\\rangle\n",
    "_{12}=\\left(  \\alpha\\left\\vert 0\\right\\rangle _{3}+\\beta\\left\\vert\n",
    "1\\right\\rangle _{3}\\right)  {\\color{red}{\\otimes}}\\frac{1}{\\sqrt{2}}\\left(  \\left\\vert\n",
    "0\\right\\rangle _{1}{\\color{red}{\\otimes}}\\left\\vert 0\\right\\rangle _{2}+\\left\\vert\n",
    "1\\right\\rangle _{1}{\\color{red}{\\otimes}}\\left\\vert 1\\right\\rangle _{2}\\right)  \\\\\n",
    "& =\\frac{1}{2}\\left\\vert \\Phi^{+}\\right\\rangle _{31}{\\color{red}{\\otimes}}\\left(\n",
    "\\alpha\\left\\vert 0\\right\\rangle _{2}+\\beta\\left\\vert 1\\right\\rangle\n",
    "_{2}\\right)  \n",
    "+\\frac{1}{2}\\left\\vert \\Phi^{-}\\right\\rangle _{31}{\\color{red}{\\otimes}}\\left(\n",
    "\\alpha\\left\\vert 0\\right\\rangle _{2}-\\beta\\left\\vert 1\\right\\rangle\n",
    "_{2}\\right) \n",
    " +\\frac{1}{2}\\left\\vert \\Psi^{+}\\right\\rangle _{31}{\\color{red}{\\otimes}}\\left(\n",
    "\\alpha\\left\\vert 1\\right\\rangle _{2}+\\beta\\left\\vert 0\\right\\rangle\n",
    "_{2}\\right)  \n",
    " +\\frac{1}{2}\\left\\vert \\Psi^{-}\\right\\rangle _{31}{\\color{red}{\\otimes}}\\left(\n",
    "\\alpha\\left\\vert 1\\right\\rangle _{2}-\\beta\\left\\vert 0\\right\\rangle\n",
    "_{2}\\right)\n",
    "\\end{align*}\n",
    "$$\n",
    "If Alice now measures $\\left\\vert \\Phi^{+}_{13}\\right\\rangle$ w.r.t. the Bell basis, she will obtain two classical binary measurements.\n",
    "These bits, sent to Bob via a \"standard communication channel\", allows Bob restoring from $\\left\\vert \\psi_2\\right\\rangle$ the original state $\\left\\vert \\psi_3\\right\\rangle$.\n"
   ]
  },
  {
   "cell_type": "code",
   "execution_count": 5,
   "metadata": {
    "vscode": {
     "languageId": "qsharp"
    }
   },
   "outputs": [
    {
     "data": {
      "text/html": [
       "<table>\n",
       "  <thead>\n",
       "    <tr>\n",
       "      <th style=\"text-align: left\">Basis State<br />(|𝜓₁…𝜓ₙ⟩)</th>\n",
       "      <th style=\"text-align: left\">Amplitude</th>\n",
       "      <th style=\"text-align: left\">Measurement Probability</th>\n",
       "      <th style=\"text-align: left\" colspan=\"2\">Phase</th>\n",
       "    </tr>\n",
       "  </thead>\n",
       "  <tbody>\n",
       "    <tr>\n",
       "  <td style=\"text-align: left\">\n",
       "    <span style=\"display: inline-block\">|100⟩</span>\n",
       "  </td>\n",
       "  <td style=\"text-align: left\">\n",
       "    <span style=\"display: inline-block\">0.7071+0.0000𝑖</span>\n",
       "  </td>\n",
       "  <td style=\"text-align: left\">\n",
       "    <progress max=\"100\" value=\"50.000000000000014\"></progress>\n",
       "    <span style=\"display: inline-block\">50.0000%</span>\n",
       "  </td>\n",
       "  <td style=\"text-align: left; transform: rotate(0.0000rad)\">↑</td>\n",
       "  <td style=\"text-align: left\">\n",
       "    <span style=\"display: inline-block\">0.0000</span>\n",
       "  </td>\n",
       "</tr>\n",
       "<tr>\n",
       "  <td style=\"text-align: left\">\n",
       "    <span style=\"display: inline-block\">|101⟩</span>\n",
       "  </td>\n",
       "  <td style=\"text-align: left\">\n",
       "    <span style=\"display: inline-block\">−0.7071+0.0000𝑖</span>\n",
       "  </td>\n",
       "  <td style=\"text-align: left\">\n",
       "    <progress max=\"100\" value=\"50.000000000000014\"></progress>\n",
       "    <span style=\"display: inline-block\">50.0000%</span>\n",
       "  </td>\n",
       "  <td style=\"text-align: left; transform: rotate(-3.1416rad)\">↑</td>\n",
       "  <td style=\"text-align: left\">\n",
       "    <span style=\"display: inline-block\">-3.1416</span>\n",
       "  </td>\n",
       "</tr>\n",
       "\n",
       "  </tbody>\n",
       "</table>\n"
      ],
      "text/latex": [
       "$|\\psi\\rangle = \\frac{\\sqrt{2}}{2}|100\\rangle-\\frac{\\sqrt{2}}{2}|101\\rangle$"
      ],
      "text/plain": [
       "STATE:\n",
       "|100⟩: 0.7071+0.0000𝑖\n",
       "|101⟩: −0.7071+0.0000𝑖"
      ]
     },
     "metadata": {},
     "output_type": "display_data"
    },
    {
     "data": {
      "text/html": [
       "<p>Hi Bob! This is Alice speaking!</p>"
      ],
      "text/plain": [
       "Hi Bob! This is Alice speaking!"
      ]
     },
     "metadata": {},
     "output_type": "display_data"
    },
    {
     "data": {
      "text/html": [
       "<p>Here you have the bits (true, false). C ya!</p>"
      ],
      "text/plain": [
       "Here you have the bits (true, false). C ya!"
      ]
     },
     "metadata": {},
     "output_type": "display_data"
    }
   ],
   "source": [
    "%%qsharp\n",
    "\n",
    "CNOT(ψ₃, ψ₁);                                                                             //Δ();\n",
    "H(ψ₃);                                                                                    //Δ();\n",
    "let (α, β) = (M(ψ₁) == One, M(ψ₂) == One);                                                Δ();\n",
    "Message($\"Hi Bob! This is Alice speaking!\");\n",
    "Message($\"Here you have the bits ({α}, {β}). C ya!\");                                     //Δ();"
   ]
  },
  {
   "cell_type": "markdown",
   "metadata": {},
   "source": [
    "<center> \n",
    "\n",
    "## Step 4\n",
    "</center> \n",
    "\n",
    "1. Apply (**unitary**) corrections to Bob's qubit $\\psi_2$ w.r.t. the Alice's measurement results\n",
    "2. Finalize (optionally) teleportation by measuring $\\psi_2$ — or... \n",
    "Maybe use it on the Bob's QC?"
   ]
  },
  {
   "cell_type": "code",
   "execution_count": 6,
   "metadata": {
    "vscode": {
     "languageId": "qsharp"
    }
   },
   "outputs": [
    {
     "data": {
      "text/html": [
       "<table>\n",
       "  <thead>\n",
       "    <tr>\n",
       "      <th style=\"text-align: left\">Basis State<br />(|𝜓₁…𝜓ₙ⟩)</th>\n",
       "      <th style=\"text-align: left\">Amplitude</th>\n",
       "      <th style=\"text-align: left\">Measurement Probability</th>\n",
       "      <th style=\"text-align: left\" colspan=\"2\">Phase</th>\n",
       "    </tr>\n",
       "  </thead>\n",
       "  <tbody>\n",
       "    <tr>\n",
       "  <td style=\"text-align: left\">\n",
       "    <span style=\"display: inline-block\">|110⟩</span>\n",
       "  </td>\n",
       "  <td style=\"text-align: left\">\n",
       "    <span style=\"display: inline-block\">0.7071+0.0000𝑖</span>\n",
       "  </td>\n",
       "  <td style=\"text-align: left\">\n",
       "    <progress max=\"100\" value=\"50.000000000000014\"></progress>\n",
       "    <span style=\"display: inline-block\">50.0000%</span>\n",
       "  </td>\n",
       "  <td style=\"text-align: left; transform: rotate(0.0000rad)\">↑</td>\n",
       "  <td style=\"text-align: left\">\n",
       "    <span style=\"display: inline-block\">0.0000</span>\n",
       "  </td>\n",
       "</tr>\n",
       "<tr>\n",
       "  <td style=\"text-align: left\">\n",
       "    <span style=\"display: inline-block\">|111⟩</span>\n",
       "  </td>\n",
       "  <td style=\"text-align: left\">\n",
       "    <span style=\"display: inline-block\">−0.7071+0.0000𝑖</span>\n",
       "  </td>\n",
       "  <td style=\"text-align: left\">\n",
       "    <progress max=\"100\" value=\"50.000000000000014\"></progress>\n",
       "    <span style=\"display: inline-block\">50.0000%</span>\n",
       "  </td>\n",
       "  <td style=\"text-align: left; transform: rotate(-3.1416rad)\">↑</td>\n",
       "  <td style=\"text-align: left\">\n",
       "    <span style=\"display: inline-block\">-3.1416</span>\n",
       "  </td>\n",
       "</tr>\n",
       "\n",
       "  </tbody>\n",
       "</table>\n"
      ],
      "text/latex": [
       "$|\\psi\\rangle = \\frac{\\sqrt{2}}{2}|110\\rangle-\\frac{\\sqrt{2}}{2}|111\\rangle$"
      ],
      "text/plain": [
       "STATE:\n",
       "|110⟩: 0.7071+0.0000𝑖\n",
       "|111⟩: −0.7071+0.0000𝑖"
      ]
     },
     "metadata": {},
     "output_type": "display_data"
    },
    {
     "data": {
      "text/html": [
       "<p>Bob: One</p>"
      ],
      "text/plain": [
       "Bob: One"
      ]
     },
     "metadata": {},
     "output_type": "display_data"
    }
   ],
   "source": [
    "%%qsharp\n",
    "\n",
    "if (α) { X(ψ₂); }\n",
    "if (β) { Z(ψ₂); }                                                                         Δ();\n",
    "// Note the measurement is made by the Q#'s string interpolation mechanism!\n",
    "Message($\"Bob: {M(ψ₂)}\");"
   ]
  },
  {
   "cell_type": "markdown",
   "metadata": {},
   "source": [
    "### Mandatory housekeeping (\"[What happens in Vegas, stays in Vegas](https://en.wikipedia.org/wiki/What_Happens_Here,_Stays_Here)\")\n",
    "Clear all qubits before you leave the clean room..."
   ]
  },
  {
   "cell_type": "code",
   "execution_count": 7,
   "metadata": {
    "vscode": {
     "languageId": "qsharp"
    }
   },
   "outputs": [],
   "source": [
    "%%qsharp\n",
    "\n",
    "Reset(ψ₁); Reset(ψ₂); Reset(ψ₃);"
   ]
  },
  {
   "cell_type": "markdown",
   "metadata": {},
   "source": [
    "# [\"No comment\"](https://en.wikipedia.org/wiki/Glomar_response) code...\n",
    "*\"I neither confirm nor deny, and the lack of confirmation or denial cannot be understood as either confirmation or denial.*\"\n",
    "\n",
    "$\\lambda$ - a qubit to be teleported\n",
    "$\\Psi, \\Phi$ - a pair of entangled qubits - a.k.a a teleportation road"
   ]
  },
  {
   "cell_type": "code",
   "execution_count": 8,
   "metadata": {},
   "outputs": [
    {
     "name": "stdout",
     "output_type": "stream",
     "text": [
      "Couldn't find program: 'false'\n"
     ]
    }
   ],
   "source": [
    "%%script false --no-raise-error\n",
    "\n",
    "%%qsharp\n",
    "\n",
    "use (q0, q1, q2) = (Qubit(), Qubit(), Qubit());\n",
    "\n",
    "// Turn superposition into entanglement\n",
    "H(q1); CNOT(q1, q2);\n",
    "\n",
    "//\n",
    "Rx(0.5, q0);\n",
    "\n",
    "CNOT(q0, q2); H(q0);\n",
    "let (m1, m2) = (M(q1) == One, M(q0) == One);\n",
    "\n",
    "if (m1) { X(q2); }\n",
    "if (m2) { Z(q2); }\n",
    "let Bob = M(q2);\n",
    "Message($\"Bob's outcome: {Bob}\");\n",
    "\n",
    "Reset(q0); Reset(q1); Reset(q2);"
   ]
  }
 ],
 "metadata": {
  "kernelspec": {
   "display_name": "Python 3",
   "language": "python",
   "name": "python3"
  },
  "language_info": {
   "codemirror_mode": {
    "name": "ipython",
    "version": 3
   },
   "file_extension": ".py",
   "mimetype": "text/x-python",
   "name": "python",
   "nbconvert_exporter": "python",
   "pygments_lexer": "ipython3",
   "version": "3.12.0"
  }
 },
 "nbformat": 4,
 "nbformat_minor": 2
}
