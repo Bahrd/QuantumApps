{
 "cells": [
  {
   "cell_type": "markdown",
   "metadata": {},
   "source": [
    "# [Quantum](https://qubit.guide/5.8-quantum-teleportation) [teleportation](https://www.youtube.com/watch?v=lbrO_0EImZ4)!\n",
    "Combining [Python with Q#](https://learn.microsoft.com/en-us/azure/quantum/user-guide/testing-debugging)..."
   ]
  },
  {
   "cell_type": "code",
   "execution_count": 1,
   "metadata": {},
   "outputs": [
    {
     "data": {
      "application/javascript": "// Copyright (c) Microsoft Corporation.\n// Licensed under the MIT License.\n\n// This file provides CodeMirror syntax highlighting for Q# magic cells\n// in classic Jupyter Notebooks. It does nothing in other (Jupyter Notebook 7,\n// VS Code, Azure Notebooks, etc.) environments.\n\n// Detect the prerequisites and do nothing if they don't exist.\nif (window.require && window.CodeMirror && window.Jupyter) {\n  // The simple mode plugin for CodeMirror is not loaded by default, so require it.\n  window.require([\"codemirror/addon/mode/simple\"], function defineMode() {\n    let rules = [\n      {\n        token: \"comment\",\n        regex: /(\\/\\/).*/,\n        beginWord: false,\n      },\n      {\n        token: \"string\",\n        regex: String.raw`^\\\"(?:[^\\\"\\\\]|\\\\[\\s\\S])*(?:\\\"|$)`,\n        beginWord: false,\n      },\n      {\n        token: \"keyword\",\n        regex: String.raw`(namespace|open|as|operation|function|body|adjoint|newtype|controlled|internal)\\b`,\n        beginWord: true,\n      },\n      {\n        token: \"keyword\",\n        regex: String.raw`(if|elif|else|repeat|until|fixup|for|in|return|fail|within|apply)\\b`,\n        beginWord: true,\n      },\n      {\n        token: \"keyword\",\n        regex: String.raw`(Adjoint|Controlled|Adj|Ctl|is|self|auto|distribute|invert|intrinsic)\\b`,\n        beginWord: true,\n      },\n      {\n        token: \"keyword\",\n        regex: String.raw`(let|set|use|borrow|mutable)\\b`,\n        beginWord: true,\n      },\n      {\n        token: \"operatorKeyword\",\n        regex: String.raw`(not|and|or)\\b|(w/)`,\n        beginWord: true,\n      },\n      {\n        token: \"operatorKeyword\",\n        regex: String.raw`(=)|(!)|(<)|(>)|(\\+)|(-)|(\\*)|(/)|(\\^)|(%)|(\\|)|(&&&)|(~~~)|(\\.\\.\\.)|(\\.\\.)|(\\?)`,\n        beginWord: false,\n      },\n      {\n        token: \"meta\",\n        regex: String.raw`(Int|BigInt|Double|Bool|Qubit|Pauli|Result|Range|String|Unit)\\b`,\n        beginWord: true,\n      },\n      {\n        token: \"atom\",\n        regex: String.raw`(true|false|Pauli(I|X|Y|Z)|One|Zero)\\b`,\n        beginWord: true,\n      },\n    ];\n    let simpleRules = [];\n    for (let rule of rules) {\n      simpleRules.push({\n        token: rule.token,\n        regex: new RegExp(rule.regex, \"g\"),\n        sol: rule.beginWord,\n      });\n      if (rule.beginWord) {\n        // Need an additional rule due to the fact that CodeMirror simple mode doesn't work with ^ token\n        simpleRules.push({\n          token: rule.token,\n          regex: new RegExp(String.raw`\\W` + rule.regex, \"g\"),\n          sol: false,\n        });\n      }\n    }\n\n    // Register the mode defined above with CodeMirror\n    window.CodeMirror.defineSimpleMode(\"qsharp\", { start: simpleRules });\n    window.CodeMirror.defineMIME(\"text/x-qsharp\", \"qsharp\");\n\n    // Tell Jupyter to associate %%qsharp magic cells with the qsharp mode\n    window.Jupyter.CodeCell.options_default.highlight_modes[\"qsharp\"] = {\n      reg: [/^%%qsharp/],\n    };\n\n    // Force re-highlighting of all cells the first time this code runs\n    for (const cell of window.Jupyter.notebook.get_cells()) {\n      cell.auto_highlight();\n    }\n  });\n}\n",
      "text/plain": []
     },
     "metadata": {},
     "output_type": "display_data"
    }
   ],
   "source": [
    "import qsharp"
   ]
  },
  {
   "cell_type": "markdown",
   "metadata": {},
   "source": [
    "## No [cloning](https://qubit.guide/5.9-no-cloning-and-no-go), no con[fusion](https://www.youtube.com/watch?v=iBfCpldPSk4)!"
   ]
  },
  {
   "cell_type": "code",
   "execution_count": 2,
   "metadata": {
    "vscode": {
     "languageId": "qsharp"
    }
   },
   "outputs": [
    {
     "data": {
      "text/html": [
       "<table>\n",
       "  <thead>\n",
       "    <tr>\n",
       "      <th style=\"text-align: left\">Basis State<br />(|𝜓₁…𝜓ₙ⟩)</th>\n",
       "      <th style=\"text-align: left\">Amplitude</th>\n",
       "      <th style=\"text-align: left\">Measurement Probability</th>\n",
       "      <th style=\"text-align: left\" colspan=\"2\">Phase</th>\n",
       "    </tr>\n",
       "  </thead>\n",
       "  <tbody>\n",
       "    <tr>\n",
       "  <td style=\"text-align: left\">\n",
       "    <span style=\"display: inline-block\">|00⟩</span>\n",
       "  </td>\n",
       "  <td style=\"text-align: left\">\n",
       "    <span style=\"display: inline-block\">1.0000+0.0000𝑖</span>\n",
       "  </td>\n",
       "  <td style=\"text-align: left\">\n",
       "    <progress max=\"100\" value=\"100\"></progress>\n",
       "    <span style=\"display: inline-block\">100.0000%</span>\n",
       "  </td>\n",
       "  <td style=\"text-align: left; transform: rotate(0.0000rad)\">↑</td>\n",
       "  <td style=\"text-align: left\">\n",
       "    <span style=\"display: inline-block\">0.0000</span>\n",
       "  </td>\n",
       "</tr>\n",
       "\n",
       "  </tbody>\n",
       "</table>\n"
      ],
      "text/latex": [
       "$|\\psi\\rangle = |00\\rangle$"
      ],
      "text/plain": [
       "STATE:\n",
       "|00⟩: 1.0000+0.0000𝑖"
      ]
     },
     "metadata": {},
     "output_type": "display_data"
    },
    {
     "data": {
      "text/html": [
       "<table>\n",
       "  <thead>\n",
       "    <tr>\n",
       "      <th style=\"text-align: left\">Basis State<br />(|𝜓₁…𝜓ₙ⟩)</th>\n",
       "      <th style=\"text-align: left\">Amplitude</th>\n",
       "      <th style=\"text-align: left\">Measurement Probability</th>\n",
       "      <th style=\"text-align: left\" colspan=\"2\">Phase</th>\n",
       "    </tr>\n",
       "  </thead>\n",
       "  <tbody>\n",
       "    <tr>\n",
       "  <td style=\"text-align: left\">\n",
       "    <span style=\"display: inline-block\">|10⟩</span>\n",
       "  </td>\n",
       "  <td style=\"text-align: left\">\n",
       "    <span style=\"display: inline-block\">1.0000+0.0000𝑖</span>\n",
       "  </td>\n",
       "  <td style=\"text-align: left\">\n",
       "    <progress max=\"100\" value=\"100\"></progress>\n",
       "    <span style=\"display: inline-block\">100.0000%</span>\n",
       "  </td>\n",
       "  <td style=\"text-align: left; transform: rotate(0.0000rad)\">↑</td>\n",
       "  <td style=\"text-align: left\">\n",
       "    <span style=\"display: inline-block\">0.0000</span>\n",
       "  </td>\n",
       "</tr>\n",
       "\n",
       "  </tbody>\n",
       "</table>\n"
      ],
      "text/latex": [
       "$|\\psi\\rangle = |10\\rangle$"
      ],
      "text/plain": [
       "STATE:\n",
       "|10⟩: 1.0000+0.0000𝑖"
      ]
     },
     "metadata": {},
     "output_type": "display_data"
    },
    {
     "data": {
      "text/html": [
       "<p>M(Φᵃ) = One, M(Bob) = Zero</p>"
      ],
      "text/plain": [
       "M(Φᵃ) = One, M(Bob) = Zero"
      ]
     },
     "metadata": {},
     "output_type": "display_data"
    },
    {
     "data": {
      "text/html": [
       "<table>\n",
       "  <thead>\n",
       "    <tr>\n",
       "      <th style=\"text-align: left\">Basis State<br />(|𝜓₁…𝜓ₙ⟩)</th>\n",
       "      <th style=\"text-align: left\">Amplitude</th>\n",
       "      <th style=\"text-align: left\">Measurement Probability</th>\n",
       "      <th style=\"text-align: left\" colspan=\"2\">Phase</th>\n",
       "    </tr>\n",
       "  </thead>\n",
       "  <tbody>\n",
       "    <tr>\n",
       "  <td style=\"text-align: left\">\n",
       "    <span style=\"display: inline-block\">|10⟩</span>\n",
       "  </td>\n",
       "  <td style=\"text-align: left\">\n",
       "    <span style=\"display: inline-block\">1.0000+0.0000𝑖</span>\n",
       "  </td>\n",
       "  <td style=\"text-align: left\">\n",
       "    <progress max=\"100\" value=\"100\"></progress>\n",
       "    <span style=\"display: inline-block\">100.0000%</span>\n",
       "  </td>\n",
       "  <td style=\"text-align: left; transform: rotate(0.0000rad)\">↑</td>\n",
       "  <td style=\"text-align: left\">\n",
       "    <span style=\"display: inline-block\">0.0000</span>\n",
       "  </td>\n",
       "</tr>\n",
       "\n",
       "  </tbody>\n",
       "</table>\n"
      ],
      "text/latex": [
       "$|\\psi\\rangle = |10\\rangle$"
      ],
      "text/plain": [
       "STATE:\n",
       "|10⟩: 1.0000+0.0000𝑖"
      ]
     },
     "metadata": {},
     "output_type": "display_data"
    },
    {
     "data": {
      "text/html": [
       "<table>\n",
       "  <thead>\n",
       "    <tr>\n",
       "      <th style=\"text-align: left\">Basis State<br />(|𝜓₁…𝜓ₙ⟩)</th>\n",
       "      <th style=\"text-align: left\">Amplitude</th>\n",
       "      <th style=\"text-align: left\">Measurement Probability</th>\n",
       "      <th style=\"text-align: left\" colspan=\"2\">Phase</th>\n",
       "    </tr>\n",
       "  </thead>\n",
       "  <tbody>\n",
       "    <tr>\n",
       "  <td style=\"text-align: left\">\n",
       "    <span style=\"display: inline-block\">|00⟩</span>\n",
       "  </td>\n",
       "  <td style=\"text-align: left\">\n",
       "    <span style=\"display: inline-block\">0.7071+0.0000𝑖</span>\n",
       "  </td>\n",
       "  <td style=\"text-align: left\">\n",
       "    <progress max=\"100\" value=\"50.000000000000014\"></progress>\n",
       "    <span style=\"display: inline-block\">50.0000%</span>\n",
       "  </td>\n",
       "  <td style=\"text-align: left; transform: rotate(0.0000rad)\">↑</td>\n",
       "  <td style=\"text-align: left\">\n",
       "    <span style=\"display: inline-block\">0.0000</span>\n",
       "  </td>\n",
       "</tr>\n",
       "<tr>\n",
       "  <td style=\"text-align: left\">\n",
       "    <span style=\"display: inline-block\">|11⟩</span>\n",
       "  </td>\n",
       "  <td style=\"text-align: left\">\n",
       "    <span style=\"display: inline-block\">−0.7071+0.0000𝑖</span>\n",
       "  </td>\n",
       "  <td style=\"text-align: left\">\n",
       "    <progress max=\"100\" value=\"50.000000000000014\"></progress>\n",
       "    <span style=\"display: inline-block\">50.0000%</span>\n",
       "  </td>\n",
       "  <td style=\"text-align: left; transform: rotate(-3.1416rad)\">↑</td>\n",
       "  <td style=\"text-align: left\">\n",
       "    <span style=\"display: inline-block\">-3.1416</span>\n",
       "  </td>\n",
       "</tr>\n",
       "\n",
       "  </tbody>\n",
       "</table>\n"
      ],
      "text/latex": [
       "$|\\psi\\rangle = \\frac{\\sqrt{2}}{2}|00\\rangle-\\frac{\\sqrt{2}}{2}|11\\rangle$"
      ],
      "text/plain": [
       "STATE:\n",
       "|00⟩: 0.7071+0.0000𝑖\n",
       "|11⟩: −0.7071+0.0000𝑖"
      ]
     },
     "metadata": {},
     "output_type": "display_data"
    },
    {
     "data": {
      "text/html": [
       "<table>\n",
       "  <thead>\n",
       "    <tr>\n",
       "      <th style=\"text-align: left\">Basis State<br />(|𝜓₁…𝜓ₙ⟩)</th>\n",
       "      <th style=\"text-align: left\">Amplitude</th>\n",
       "      <th style=\"text-align: left\">Measurement Probability</th>\n",
       "      <th style=\"text-align: left\" colspan=\"2\">Phase</th>\n",
       "    </tr>\n",
       "  </thead>\n",
       "  <tbody>\n",
       "    <tr>\n",
       "  <td style=\"text-align: left\">\n",
       "    <span style=\"display: inline-block\">|001⟩</span>\n",
       "  </td>\n",
       "  <td style=\"text-align: left\">\n",
       "    <span style=\"display: inline-block\">0.7071+0.0000𝑖</span>\n",
       "  </td>\n",
       "  <td style=\"text-align: left\">\n",
       "    <progress max=\"100\" value=\"50.000000000000014\"></progress>\n",
       "    <span style=\"display: inline-block\">50.0000%</span>\n",
       "  </td>\n",
       "  <td style=\"text-align: left; transform: rotate(0.0000rad)\">↑</td>\n",
       "  <td style=\"text-align: left\">\n",
       "    <span style=\"display: inline-block\">0.0000</span>\n",
       "  </td>\n",
       "</tr>\n",
       "<tr>\n",
       "  <td style=\"text-align: left\">\n",
       "    <span style=\"display: inline-block\">|111⟩</span>\n",
       "  </td>\n",
       "  <td style=\"text-align: left\">\n",
       "    <span style=\"display: inline-block\">−0.7071+0.0000𝑖</span>\n",
       "  </td>\n",
       "  <td style=\"text-align: left\">\n",
       "    <progress max=\"100\" value=\"50.000000000000014\"></progress>\n",
       "    <span style=\"display: inline-block\">50.0000%</span>\n",
       "  </td>\n",
       "  <td style=\"text-align: left; transform: rotate(-3.1416rad)\">↑</td>\n",
       "  <td style=\"text-align: left\">\n",
       "    <span style=\"display: inline-block\">-3.1416</span>\n",
       "  </td>\n",
       "</tr>\n",
       "\n",
       "  </tbody>\n",
       "</table>\n"
      ],
      "text/latex": [
       "$|\\psi\\rangle = \\frac{\\sqrt{2}}{2}|001\\rangle-\\frac{\\sqrt{2}}{2}|111\\rangle$"
      ],
      "text/plain": [
       "STATE:\n",
       "|001⟩: 0.7071+0.0000𝑖\n",
       "|111⟩: −0.7071+0.0000𝑖"
      ]
     },
     "metadata": {},
     "output_type": "display_data"
    },
    {
     "data": {
      "text/html": [
       "<table>\n",
       "  <thead>\n",
       "    <tr>\n",
       "      <th style=\"text-align: left\">Basis State<br />(|𝜓₁…𝜓ₙ⟩)</th>\n",
       "      <th style=\"text-align: left\">Amplitude</th>\n",
       "      <th style=\"text-align: left\">Measurement Probability</th>\n",
       "      <th style=\"text-align: left\" colspan=\"2\">Phase</th>\n",
       "    </tr>\n",
       "  </thead>\n",
       "  <tbody>\n",
       "    <tr>\n",
       "  <td style=\"text-align: left\">\n",
       "    <span style=\"display: inline-block\">|011⟩</span>\n",
       "  </td>\n",
       "  <td style=\"text-align: left\">\n",
       "    <span style=\"display: inline-block\">−0.7071+0.0000𝑖</span>\n",
       "  </td>\n",
       "  <td style=\"text-align: left\">\n",
       "    <progress max=\"100\" value=\"50.000000000000014\"></progress>\n",
       "    <span style=\"display: inline-block\">50.0000%</span>\n",
       "  </td>\n",
       "  <td style=\"text-align: left; transform: rotate(-3.1416rad)\">↑</td>\n",
       "  <td style=\"text-align: left\">\n",
       "    <span style=\"display: inline-block\">-3.1416</span>\n",
       "  </td>\n",
       "</tr>\n",
       "<tr>\n",
       "  <td style=\"text-align: left\">\n",
       "    <span style=\"display: inline-block\">|101⟩</span>\n",
       "  </td>\n",
       "  <td style=\"text-align: left\">\n",
       "    <span style=\"display: inline-block\">0.7071+0.0000𝑖</span>\n",
       "  </td>\n",
       "  <td style=\"text-align: left\">\n",
       "    <progress max=\"100\" value=\"50.000000000000014\"></progress>\n",
       "    <span style=\"display: inline-block\">50.0000%</span>\n",
       "  </td>\n",
       "  <td style=\"text-align: left; transform: rotate(0.0000rad)\">↑</td>\n",
       "  <td style=\"text-align: left\">\n",
       "    <span style=\"display: inline-block\">0.0000</span>\n",
       "  </td>\n",
       "</tr>\n",
       "\n",
       "  </tbody>\n",
       "</table>\n"
      ],
      "text/latex": [
       "$|\\psi\\rangle = -\\frac{\\sqrt{2}}{2}|011\\rangle+\\frac{\\sqrt{2}}{2}|101\\rangle$"
      ],
      "text/plain": [
       "STATE:\n",
       "|011⟩: −0.7071+0.0000𝑖\n",
       "|101⟩: 0.7071+0.0000𝑖"
      ]
     },
     "metadata": {},
     "output_type": "display_data"
    },
    {
     "data": {
      "text/html": [
       "<table>\n",
       "  <thead>\n",
       "    <tr>\n",
       "      <th style=\"text-align: left\">Basis State<br />(|𝜓₁…𝜓ₙ⟩)</th>\n",
       "      <th style=\"text-align: left\">Amplitude</th>\n",
       "      <th style=\"text-align: left\">Measurement Probability</th>\n",
       "      <th style=\"text-align: left\" colspan=\"2\">Phase</th>\n",
       "    </tr>\n",
       "  </thead>\n",
       "  <tbody>\n",
       "    <tr>\n",
       "  <td style=\"text-align: left\">\n",
       "    <span style=\"display: inline-block\">|010⟩</span>\n",
       "  </td>\n",
       "  <td style=\"text-align: left\">\n",
       "    <span style=\"display: inline-block\">−0.5000+0.0000𝑖</span>\n",
       "  </td>\n",
       "  <td style=\"text-align: left\">\n",
       "    <progress max=\"100\" value=\"25.00000000000001\"></progress>\n",
       "    <span style=\"display: inline-block\">25.0000%</span>\n",
       "  </td>\n",
       "  <td style=\"text-align: left; transform: rotate(-3.1416rad)\">↑</td>\n",
       "  <td style=\"text-align: left\">\n",
       "    <span style=\"display: inline-block\">-3.1416</span>\n",
       "  </td>\n",
       "</tr>\n",
       "<tr>\n",
       "  <td style=\"text-align: left\">\n",
       "    <span style=\"display: inline-block\">|011⟩</span>\n",
       "  </td>\n",
       "  <td style=\"text-align: left\">\n",
       "    <span style=\"display: inline-block\">0.5000+0.0000𝑖</span>\n",
       "  </td>\n",
       "  <td style=\"text-align: left\">\n",
       "    <progress max=\"100\" value=\"25.00000000000001\"></progress>\n",
       "    <span style=\"display: inline-block\">25.0000%</span>\n",
       "  </td>\n",
       "  <td style=\"text-align: left; transform: rotate(0.0000rad)\">↑</td>\n",
       "  <td style=\"text-align: left\">\n",
       "    <span style=\"display: inline-block\">0.0000</span>\n",
       "  </td>\n",
       "</tr>\n",
       "<tr>\n",
       "  <td style=\"text-align: left\">\n",
       "    <span style=\"display: inline-block\">|100⟩</span>\n",
       "  </td>\n",
       "  <td style=\"text-align: left\">\n",
       "    <span style=\"display: inline-block\">0.5000+0.0000𝑖</span>\n",
       "  </td>\n",
       "  <td style=\"text-align: left\">\n",
       "    <progress max=\"100\" value=\"25.00000000000001\"></progress>\n",
       "    <span style=\"display: inline-block\">25.0000%</span>\n",
       "  </td>\n",
       "  <td style=\"text-align: left; transform: rotate(0.0000rad)\">↑</td>\n",
       "  <td style=\"text-align: left\">\n",
       "    <span style=\"display: inline-block\">0.0000</span>\n",
       "  </td>\n",
       "</tr>\n",
       "<tr>\n",
       "  <td style=\"text-align: left\">\n",
       "    <span style=\"display: inline-block\">|101⟩</span>\n",
       "  </td>\n",
       "  <td style=\"text-align: left\">\n",
       "    <span style=\"display: inline-block\">−0.5000+0.0000𝑖</span>\n",
       "  </td>\n",
       "  <td style=\"text-align: left\">\n",
       "    <progress max=\"100\" value=\"25.00000000000001\"></progress>\n",
       "    <span style=\"display: inline-block\">25.0000%</span>\n",
       "  </td>\n",
       "  <td style=\"text-align: left; transform: rotate(-3.1416rad)\">↑</td>\n",
       "  <td style=\"text-align: left\">\n",
       "    <span style=\"display: inline-block\">-3.1416</span>\n",
       "  </td>\n",
       "</tr>\n",
       "\n",
       "  </tbody>\n",
       "</table>\n"
      ],
      "text/latex": [
       "$|\\psi\\rangle = -\\frac{1}{2}|010\\rangle+\\frac{1}{2}|011\\rangle+\\frac{1}{2}|100\\rangle-\\frac{1}{2}|101\\rangle$"
      ],
      "text/plain": [
       "STATE:\n",
       "|010⟩: −0.5000+0.0000𝑖\n",
       "|011⟩: 0.5000+0.0000𝑖\n",
       "|100⟩: 0.5000+0.0000𝑖\n",
       "|101⟩: −0.5000+0.0000𝑖"
      ]
     },
     "metadata": {},
     "output_type": "display_data"
    },
    {
     "data": {
      "text/html": [
       "<p>Hi Bob! Here you have the bits (true, false). Bye!</p>"
      ],
      "text/plain": [
       "Hi Bob! Here you have the bits (true, false). Bye!"
      ]
     },
     "metadata": {},
     "output_type": "display_data"
    },
    {
     "data": {
      "text/html": [
       "<table>\n",
       "  <thead>\n",
       "    <tr>\n",
       "      <th style=\"text-align: left\">Basis State<br />(|𝜓₁…𝜓ₙ⟩)</th>\n",
       "      <th style=\"text-align: left\">Amplitude</th>\n",
       "      <th style=\"text-align: left\">Measurement Probability</th>\n",
       "      <th style=\"text-align: left\" colspan=\"2\">Phase</th>\n",
       "    </tr>\n",
       "  </thead>\n",
       "  <tbody>\n",
       "    <tr>\n",
       "  <td style=\"text-align: left\">\n",
       "    <span style=\"display: inline-block\">|100⟩</span>\n",
       "  </td>\n",
       "  <td style=\"text-align: left\">\n",
       "    <span style=\"display: inline-block\">0.7071+0.0000𝑖</span>\n",
       "  </td>\n",
       "  <td style=\"text-align: left\">\n",
       "    <progress max=\"100\" value=\"50.000000000000014\"></progress>\n",
       "    <span style=\"display: inline-block\">50.0000%</span>\n",
       "  </td>\n",
       "  <td style=\"text-align: left; transform: rotate(0.0000rad)\">↑</td>\n",
       "  <td style=\"text-align: left\">\n",
       "    <span style=\"display: inline-block\">0.0000</span>\n",
       "  </td>\n",
       "</tr>\n",
       "<tr>\n",
       "  <td style=\"text-align: left\">\n",
       "    <span style=\"display: inline-block\">|101⟩</span>\n",
       "  </td>\n",
       "  <td style=\"text-align: left\">\n",
       "    <span style=\"display: inline-block\">−0.7071+0.0000𝑖</span>\n",
       "  </td>\n",
       "  <td style=\"text-align: left\">\n",
       "    <progress max=\"100\" value=\"50.000000000000014\"></progress>\n",
       "    <span style=\"display: inline-block\">50.0000%</span>\n",
       "  </td>\n",
       "  <td style=\"text-align: left; transform: rotate(-3.1416rad)\">↑</td>\n",
       "  <td style=\"text-align: left\">\n",
       "    <span style=\"display: inline-block\">-3.1416</span>\n",
       "  </td>\n",
       "</tr>\n",
       "\n",
       "  </tbody>\n",
       "</table>\n"
      ],
      "text/latex": [
       "$|\\psi\\rangle = \\frac{\\sqrt{2}}{2}|100\\rangle-\\frac{\\sqrt{2}}{2}|101\\rangle$"
      ],
      "text/plain": [
       "STATE:\n",
       "|100⟩: 0.7071+0.0000𝑖\n",
       "|101⟩: −0.7071+0.0000𝑖"
      ]
     },
     "metadata": {},
     "output_type": "display_data"
    },
    {
     "data": {
      "text/html": [
       "<table>\n",
       "  <thead>\n",
       "    <tr>\n",
       "      <th style=\"text-align: left\">Basis State<br />(|𝜓₁…𝜓ₙ⟩)</th>\n",
       "      <th style=\"text-align: left\">Amplitude</th>\n",
       "      <th style=\"text-align: left\">Measurement Probability</th>\n",
       "      <th style=\"text-align: left\" colspan=\"2\">Phase</th>\n",
       "    </tr>\n",
       "  </thead>\n",
       "  <tbody>\n",
       "    <tr>\n",
       "  <td style=\"text-align: left\">\n",
       "    <span style=\"display: inline-block\">|110⟩</span>\n",
       "  </td>\n",
       "  <td style=\"text-align: left\">\n",
       "    <span style=\"display: inline-block\">0.7071+0.0000𝑖</span>\n",
       "  </td>\n",
       "  <td style=\"text-align: left\">\n",
       "    <progress max=\"100\" value=\"50.000000000000014\"></progress>\n",
       "    <span style=\"display: inline-block\">50.0000%</span>\n",
       "  </td>\n",
       "  <td style=\"text-align: left; transform: rotate(0.0000rad)\">↑</td>\n",
       "  <td style=\"text-align: left\">\n",
       "    <span style=\"display: inline-block\">0.0000</span>\n",
       "  </td>\n",
       "</tr>\n",
       "<tr>\n",
       "  <td style=\"text-align: left\">\n",
       "    <span style=\"display: inline-block\">|111⟩</span>\n",
       "  </td>\n",
       "  <td style=\"text-align: left\">\n",
       "    <span style=\"display: inline-block\">−0.7071+0.0000𝑖</span>\n",
       "  </td>\n",
       "  <td style=\"text-align: left\">\n",
       "    <progress max=\"100\" value=\"50.000000000000014\"></progress>\n",
       "    <span style=\"display: inline-block\">50.0000%</span>\n",
       "  </td>\n",
       "  <td style=\"text-align: left; transform: rotate(-3.1416rad)\">↑</td>\n",
       "  <td style=\"text-align: left\">\n",
       "    <span style=\"display: inline-block\">-3.1416</span>\n",
       "  </td>\n",
       "</tr>\n",
       "\n",
       "  </tbody>\n",
       "</table>\n"
      ],
      "text/latex": [
       "$|\\psi\\rangle = \\frac{\\sqrt{2}}{2}|110\\rangle-\\frac{\\sqrt{2}}{2}|111\\rangle$"
      ],
      "text/plain": [
       "STATE:\n",
       "|110⟩: 0.7071+0.0000𝑖\n",
       "|111⟩: −0.7071+0.0000𝑖"
      ]
     },
     "metadata": {},
     "output_type": "display_data"
    },
    {
     "data": {
      "text/html": [
       "<p>Bob: One</p>"
      ],
      "text/plain": [
       "Bob: One"
      ]
     },
     "metadata": {},
     "output_type": "display_data"
    },
    {
     "data": {
      "text/html": [
       "<table>\n",
       "  <thead>\n",
       "    <tr>\n",
       "      <th style=\"text-align: left\">Basis State<br />(|𝜓₁…𝜓ₙ⟩)</th>\n",
       "      <th style=\"text-align: left\">Amplitude</th>\n",
       "      <th style=\"text-align: left\">Measurement Probability</th>\n",
       "      <th style=\"text-align: left\" colspan=\"2\">Phase</th>\n",
       "    </tr>\n",
       "  </thead>\n",
       "  <tbody>\n",
       "    <tr>\n",
       "  <td style=\"text-align: left\">\n",
       "    <span style=\"display: inline-block\">|110⟩</span>\n",
       "  </td>\n",
       "  <td style=\"text-align: left\">\n",
       "    <span style=\"display: inline-block\">0.7071+0.0000𝑖</span>\n",
       "  </td>\n",
       "  <td style=\"text-align: left\">\n",
       "    <progress max=\"100\" value=\"50.000000000000014\"></progress>\n",
       "    <span style=\"display: inline-block\">50.0000%</span>\n",
       "  </td>\n",
       "  <td style=\"text-align: left; transform: rotate(0.0000rad)\">↑</td>\n",
       "  <td style=\"text-align: left\">\n",
       "    <span style=\"display: inline-block\">0.0000</span>\n",
       "  </td>\n",
       "</tr>\n",
       "<tr>\n",
       "  <td style=\"text-align: left\">\n",
       "    <span style=\"display: inline-block\">|111⟩</span>\n",
       "  </td>\n",
       "  <td style=\"text-align: left\">\n",
       "    <span style=\"display: inline-block\">−0.7071+0.0000𝑖</span>\n",
       "  </td>\n",
       "  <td style=\"text-align: left\">\n",
       "    <progress max=\"100\" value=\"50.000000000000014\"></progress>\n",
       "    <span style=\"display: inline-block\">50.0000%</span>\n",
       "  </td>\n",
       "  <td style=\"text-align: left; transform: rotate(-3.1416rad)\">↑</td>\n",
       "  <td style=\"text-align: left\">\n",
       "    <span style=\"display: inline-block\">-3.1416</span>\n",
       "  </td>\n",
       "</tr>\n",
       "\n",
       "  </tbody>\n",
       "</table>\n"
      ],
      "text/latex": [
       "$|\\psi\\rangle = \\frac{\\sqrt{2}}{2}|110\\rangle-\\frac{\\sqrt{2}}{2}|111\\rangle$"
      ],
      "text/plain": [
       "STATE:\n",
       "|110⟩: 0.7071+0.0000𝑖\n",
       "|111⟩: −0.7071+0.0000𝑖"
      ]
     },
     "metadata": {},
     "output_type": "display_data"
    }
   ],
   "source": [
    "%%qsharp\n",
    "\n",
    "operation QuantumTeleportation() : Unit\n",
    "{\n",
    "   // A diagnostic DumpMachine procedure alias\n",
    "   let Δ = () -> Microsoft.Quantum.Diagnostics.DumpMachine();\n",
    "\n",
    "   // Step 1A: Prepare an entangled pair (Φᵃ and Φᵇ (Alice and Bob))\n",
    "   use (Φᵃ, Φᵇ) = (Qubit(), Qubit());                                   Δ();\n",
    "   // Step 1B: Flip Φᵃ and/or Φᵇ if you want the other Bell state...\n",
    "   X(Φᵃ);                                                               Δ();\n",
    "   Message($\"M(Φᵃ) = {M(Φᵃ)}, M(Bob) = {M(Φᵇ)}\");                       Δ();\n",
    "   H(Φᵃ); CNOT(Φᵃ, Φᵇ);                                                 Δ();\n",
    "\n",
    "   // Step 2: Prepare the qubit Ψ to be teleported.\n",
    "   // You can turn it into any state you want:\n",
    "   // let π = Microsoft.Quantum.Math.PI(); Rx(π/4., Ψ);\n",
    "   // or H(Ψ);\n",
    "   use Ψ = Qubit(); X(Ψ);                                               Δ();\n",
    "\n",
    "   // Step 3A: Entangle Ψ with Φᵃ (in other words: teleport Ψ to Bob)!\n",
    "   CNOT(Ψ, Φᵃ);                                                         Δ();\n",
    "   // Step 3B: Prepare (Ψ, Φᵃ) for measurement in the Bell basis\n",
    "   H(Ψ);                                                                Δ();\n",
    "   // Step 3C: Perform Bell measurement on (Ψ, Φᵃ)\n",
    "   let (α, β) = (M(Φᵃ) == One, M(Φᵇ) == One);\n",
    "   Message($\"Hi Bob! Here you have the bits ({α}, {β}). Bye!\");         Δ();\n",
    "\n",
    "   // Step 4: Apply corrections to Bob based on the measurement results\n",
    "   if (α) { X(Φᵇ); } if (β) { Z(Φᵇ); }                                  Δ();\n",
    "   // Verify the teleportation by measuring Bob\n",
    "   Message($\"Bob: {M(Φᵇ)}\");                                            Δ();\n",
    "   // Mandatory: Reset all qubits\n",
    "   Reset(Ψ); Reset(Φᵃ); Reset(Φᵇ);\n",
    "}\n",
    "\n",
    "QuantumTeleportation();"
   ]
  },
  {
   "cell_type": "markdown",
   "metadata": {},
   "source": [
    "# [\"No comment\"](https://en.wikipedia.org/wiki/Glomar_response) code...\n",
    "*\"I neither confirm nor deny, and the lack of confirmation or denial cannot be understood as either confirmation or denial.*\""
   ]
  },
  {
   "cell_type": "code",
   "execution_count": null,
   "metadata": {
    "vscode": {
     "languageId": "rust"
    }
   },
   "outputs": [],
   "source": [
    "%%script false --no-raise-error\n",
    "%%qsharp\n",
    "\n",
    "operation QuantumTeleportationNoComments() : Unit {\n",
    "   use (Λ, Ψ, Φ) = (Qubit(), Qubit(), Qubit());\n",
    "   H(Λ); CNOT(Λ, Ψ);\n",
    "   H(Ψ); CNOT(Ψ, Φ);\n",
    "   let (m1, m2) = (M(Ψ) == One, M(Λ) == One);\n",
    "   if (m1) { X(Φ); } if (m2) { Z(Φ); }\n",
    "   Message($\"Φ: {M(Φ)}\");\n",
    "   Reset(Λ); Reset(Ψ); Reset(Φ);\n",
    "}\n",
    "\n",
    "QuantumTeleportationNoComments();"
   ]
  }
 ],
 "metadata": {
  "kernelspec": {
   "display_name": "Python 3",
   "language": "python",
   "name": "python3"
  },
  "language_info": {
   "codemirror_mode": {
    "name": "ipython",
    "version": 3
   },
   "file_extension": ".py",
   "mimetype": "text/x-python",
   "name": "python",
   "nbconvert_exporter": "python",
   "pygments_lexer": "ipython3",
   "version": "3.12.0"
  }
 },
 "nbformat": 4,
 "nbformat_minor": 2
}
